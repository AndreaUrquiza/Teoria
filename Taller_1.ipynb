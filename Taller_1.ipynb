{
  "nbformat": 4,
  "nbformat_minor": 0,
  "metadata": {
    "kernelspec": {
      "display_name": "Python 3",
      "language": "python",
      "name": "python3"
    },
    "language_info": {
      "codemirror_mode": {
        "name": "ipython",
        "version": 3
      },
      "file_extension": ".py",
      "mimetype": "text/x-python",
      "name": "python",
      "nbconvert_exporter": "python",
      "pygments_lexer": "ipython3",
      "version": "3.8.5"
    },
    "colab": {
      "name": "Taller 1.ipynb",
      "provenance": [],
      "include_colab_link": true
    }
  },
  "cells": [
    {
      "cell_type": "markdown",
      "metadata": {
        "id": "view-in-github",
        "colab_type": "text"
      },
      "source": [
        "<a href=\"https://colab.research.google.com/github/AndreaUrquiza/Teoria/blob/main/Taller_1.ipynb\" target=\"_parent\"><img src=\"https://colab.research.google.com/assets/colab-badge.svg\" alt=\"Open In Colab\"/></a>"
      ]
    },
    {
      "cell_type": "markdown",
      "metadata": {
        "id": "IEacEolYrekh"
      },
      "source": [
        "# Teoría de señales - Taller 1\n",
        "\n",
        "\n",
        "\n",
        "_Transformada de Fourier, Sistemas lineales y Modulación_\n",
        "\n",
        "----"
      ]
    },
    {
      "cell_type": "markdown",
      "metadata": {
        "id": "NwwJXV9orekn"
      },
      "source": [
        "Hallar la ecuación diferencial que describe cada uno de los siguientes circuitos:\n",
        "\n",
        "<center><img src='taller1.svg' style='width: 70%'></img></center>\n",
        "\n",
        "  1. Hallar la función de transferencia $h(t)$.\n",
        "  1. Asumir que a la entrada $x(t)$ hay un **pulso cuadrado**, hallar la salida en tiempo ($y(t)$) y frecuencia ($Y(\\omega)$).\n",
        "  1. Modular la salida del sistema en cada una de las modulaciones vistas en clase (representar la señal modulada en el tiempo y hallar su espectro)\n"
      ]
    },
    {
      "cell_type": "markdown",
      "metadata": {
        "id": "HSqzkoCxODiy"
      },
      "source": [
        "# Función de transferencia"
      ]
    },
    {
      "cell_type": "markdown",
      "metadata": {
        "id": "VRDKp9fF5M9f"
      },
      "source": [
        "1. Hallar la función de transferencia"
      ]
    },
    {
      "cell_type": "code",
      "metadata": {
        "id": "s_zQWZ107VT3"
      },
      "source": [
        "%matplotlib inline\n",
        "import numpy as np\n",
        "from matplotlib import pyplot as plt\n",
        "from scipy.signal import lti\n",
        "from scipy.fftpack import fft, fftfreq, fftshift\n",
        "\n"
      ],
      "execution_count": 195,
      "outputs": []
    },
    {
      "cell_type": "code",
      "metadata": {
        "id": "HHioHj4oLLxi",
        "outputId": "3d522726-88c5-4e83-9945-887d1b7caf1d",
        "colab": {
          "base_uri": "https://localhost:8080/",
          "height": 59
        }
      },
      "source": [
        "%matplotlib inline\n",
        "import sympy as sym\n",
        "sym.init_printing()\n",
        "\n",
        "s = sym.symbols('s', complex=True)\n",
        "t, R1, R2, C = sym.symbols('t R1 R2 C', positive=True)\n",
        "X = sym.Function('X')(s)\n",
        "\n",
        "Y = (1/(R2*C))/(s + ((R2+R1)/(R1*R2*C))) * X\n",
        "\n",
        "y = sym.inverse_laplace_transform(Y.subs(X, 1), s, t)   #VERIFICACIÓN CON CÓDIGO\n",
        "Y,y"
      ],
      "execution_count": 196,
      "outputs": [
        {
          "output_type": "execute_result",
          "data": {
            "image/png": "[encoded data removed]",
            "text/latex": "$$\\left ( \\frac{X{\\left (s \\right )}}{C R_{2} \\left(s + \\frac{R_{1} + R_{2}}{C R_{1} R_{2}}\\right)}, \\quad \\frac{1}{C R_{2}} e^{- \\frac{t \\left(R_{1} + R_{2}\\right)}{C R_{1} R_{2}}}\\right )$$",
            "text/plain": [
              "⎛                     -t⋅(R₁ + R₂) ⎞\n",
              "⎜                     ─────────────⎟\n",
              "⎜                        C⋅R₁⋅R₂   ⎟\n",
              "⎜       X(s)         ℯ             ⎟\n",
              "⎜──────────────────, ──────────────⎟\n",
              "⎜     ⎛    R₁ + R₂⎞       C⋅R₂     ⎟\n",
              "⎜C⋅R₂⋅⎜s + ───────⎟                ⎟\n",
              "⎝     ⎝    C⋅R₁⋅R₂⎠                ⎠"
            ]
          },
          "metadata": {
            "tags": []
          },
          "execution_count": 196
        }
      ]
    },
    {
      "cell_type": "code",
      "metadata": {
        "id": "6_MpmPcQJiYb",
        "outputId": "0d199382-3cb2-4419-a969-9652f6a07e6c",
        "colab": {
          "base_uri": "https://localhost:8080/",
          "height": 319
        }
      },
      "source": [
        "R1 = 1\n",
        "R2 = 2\n",
        "C = 0.4\n",
        "A = 1/(R2*C)\n",
        "num = [A] \n",
        "den = [1,((R2+R1)/(R1*R2*C)) ] \n",
        "\n",
        "lti_system = lti(num, den)   \n",
        "tv, h = lti_system.impulse(N=5004)  #se genera la respuesta impulso del sistema \n",
        "\n",
        "plt.plot(tv, h, label='$h(t)$') #se gráfica la respuesta impulso\n",
        "\n",
        "plt.grid(True)\n",
        "plt.legend()\n",
        "plt.title(\"Impulse response\")\n",
        "plt.xlabel(\"Time [$s$]\")\n",
        "plt.ylabel(\"Amplitude\")\n",
        "plt.show()\n",
        "len(tv)"
      ],
      "execution_count": 257,
      "outputs": [
        {
          "output_type": "display_data",
          "data": {
            "image/png": "[encoded data removed]",
            "text/plain": [
              "<Figure size 432x288 with 1 Axes>"
            ]
          },
          "metadata": {
            "tags": [],
            "needs_background": "light"
          }
        },
        {
          "output_type": "execute_result",
          "data": {
            "image/png": "[encoded data removed]",
            "text/latex": "$$5004$$",
            "text/plain": [
              "5004"
            ]
          },
          "metadata": {
            "tags": []
          },
          "execution_count": 257
        }
      ]
    },
    {
      "cell_type": "markdown",
      "metadata": {
        "id": "jHtthzewOMO_"
      },
      "source": [
        "# 2. Si Input signal es $x(t)= rect_{tau} (t)$    "
      ]
    },
    {
      "cell_type": "code",
      "metadata": {
        "id": "lh9ofwb47s81",
        "outputId": "3f3cbbad-13d8-410b-9220-a0c966909c03",
        "colab": {
          "base_uri": "https://localhost:8080/",
          "height": 37
        }
      },
      "source": [
        "tau= 2\n",
        "Fs= 834\n",
        "Nm=tau*Fs\n",
        "\n",
        "A1 = 1/tau\n",
        "\n",
        "t1 = np.zeros(1)\n",
        "t2 = np.zeros(1)\n",
        "\n",
        "for i in range(len(tv)):\n",
        "  if 0 < tv[i] <= A1 :\n",
        "    t1 = np.append(t1, tv[i])\n",
        "   else \n",
        "t1,t2\n",
        "len(t1),t1[1340],tv[1340]\n",
        "               \n",
        "\n",
        "\n"
      ],
      "execution_count": 383,
      "outputs": [
        {
          "output_type": "execute_result",
          "data": {
            "image/png": "[encoded data removed]",
            "text/latex": "$$\\left ( 1341, \\quad 0.4999666866546738, \\quad 0.4999666866546738\\right )$$",
            "text/plain": [
              "(1341, 0.4999666866546738, 0.4999666866546738)"
            ]
          },
          "metadata": {
            "tags": []
          },
          "execution_count": 383
        }
      ]
    },
    {
      "cell_type": "markdown",
      "metadata": {
        "id": "5enUN3AkVS76"
      },
      "source": [
        "- Se halla la respuesta del sistema ante el pulso cuadrado"
      ]
    },
    {
      "cell_type": "code",
      "metadata": {
        "id": "3wPBb_fESBnL",
        "outputId": "108a3a7b-662f-480c-821d-dfbe0315ed66",
        "colab": {
          "base_uri": "https://localhost:8080/",
          "height": 408
        }
      },
      "source": [
        "plt.figure(figsize=(10, 5), dpi=90)\n",
        "\n",
        "_, output, _ = lti_system.output(xt, t)\n",
        "output_c = np.convolve(xt, h)[:t.shape[0]]*((t[-1]/t.shape[0]))\n",
        "\n",
        "plt.plot(t, xt, '-', C='C0', label='Input')\n",
        "plt.plot(t, output, '-', C='C1', linewidth=7, alpha=0.3, label='Output (sim)')\n",
        "plt.plot(t, output_c, '--', C='C2', label='Output (convolve)')\n",
        "\n",
        "plt.grid(True)\n",
        "plt.legend()\n",
        "# plt.xlim(0, 20)\n",
        "plt.xlabel('Time [$s$]')\n",
        "plt.ylabel('Amplitude')\n",
        "plt.show()"
      ],
      "execution_count": 327,
      "outputs": [
        {
          "output_type": "error",
          "ename": "ValueError",
          "evalue": "ignored",
          "traceback": [
            "\u001b[0;31m---------------------------------------------------------------------------\u001b[0m",
            "\u001b[0;31mValueError\u001b[0m                                Traceback (most recent call last)",
            "\u001b[0;32m<ipython-input-327-740752ca90b3>\u001b[0m in \u001b[0;36m<module>\u001b[0;34m()\u001b[0m\n\u001b[1;32m      1\u001b[0m \u001b[0mplt\u001b[0m\u001b[0;34m.\u001b[0m\u001b[0mfigure\u001b[0m\u001b[0;34m(\u001b[0m\u001b[0mfigsize\u001b[0m\u001b[0;34m=\u001b[0m\u001b[0;34m(\u001b[0m\u001b[0;36m10\u001b[0m\u001b[0;34m,\u001b[0m \u001b[0;36m5\u001b[0m\u001b[0;34m)\u001b[0m\u001b[0;34m,\u001b[0m \u001b[0mdpi\u001b[0m\u001b[0;34m=\u001b[0m\u001b[0;36m90\u001b[0m\u001b[0;34m)\u001b[0m\u001b[0;34m\u001b[0m\u001b[0;34m\u001b[0m\u001b[0m\n\u001b[1;32m      2\u001b[0m \u001b[0;34m\u001b[0m\u001b[0m\n\u001b[0;32m----> 3\u001b[0;31m \u001b[0m_\u001b[0m\u001b[0;34m,\u001b[0m \u001b[0moutput\u001b[0m\u001b[0;34m,\u001b[0m \u001b[0m_\u001b[0m \u001b[0;34m=\u001b[0m \u001b[0mlti_system\u001b[0m\u001b[0;34m.\u001b[0m\u001b[0moutput\u001b[0m\u001b[0;34m(\u001b[0m\u001b[0mxt\u001b[0m\u001b[0;34m,\u001b[0m \u001b[0mt\u001b[0m\u001b[0;34m)\u001b[0m\u001b[0;34m\u001b[0m\u001b[0;34m\u001b[0m\u001b[0m\n\u001b[0m\u001b[1;32m      4\u001b[0m \u001b[0moutput_c\u001b[0m \u001b[0;34m=\u001b[0m \u001b[0mnp\u001b[0m\u001b[0;34m.\u001b[0m\u001b[0mconvolve\u001b[0m\u001b[0;34m(\u001b[0m\u001b[0mxt\u001b[0m\u001b[0;34m,\u001b[0m \u001b[0mh\u001b[0m\u001b[0;34m)\u001b[0m\u001b[0;34m[\u001b[0m\u001b[0;34m:\u001b[0m\u001b[0mt\u001b[0m\u001b[0;34m.\u001b[0m\u001b[0mshape\u001b[0m\u001b[0;34m[\u001b[0m\u001b[0;36m0\u001b[0m\u001b[0;34m]\u001b[0m\u001b[0;34m]\u001b[0m\u001b[0;34m*\u001b[0m\u001b[0;34m(\u001b[0m\u001b[0;34m(\u001b[0m\u001b[0mt\u001b[0m\u001b[0;34m[\u001b[0m\u001b[0;34m-\u001b[0m\u001b[0;36m1\u001b[0m\u001b[0;34m]\u001b[0m\u001b[0;34m/\u001b[0m\u001b[0mt\u001b[0m\u001b[0;34m.\u001b[0m\u001b[0mshape\u001b[0m\u001b[0;34m[\u001b[0m\u001b[0;36m0\u001b[0m\u001b[0;34m]\u001b[0m\u001b[0;34m)\u001b[0m\u001b[0;34m)\u001b[0m\u001b[0;34m\u001b[0m\u001b[0;34m\u001b[0m\u001b[0m\n\u001b[1;32m      5\u001b[0m \u001b[0;34m\u001b[0m\u001b[0m\n",
            "\u001b[0;32m/usr/local/lib/python3.6/dist-packages/scipy/signal/ltisys.py\u001b[0m in \u001b[0;36moutput\u001b[0;34m(self, U, T, X0)\u001b[0m\n\u001b[1;32m    248\u001b[0m         \u001b[0mSee\u001b[0m\u001b[0;31m \u001b[0m\u001b[0;31m`\u001b[0m\u001b[0mlsim\u001b[0m\u001b[0;31m`\u001b[0m \u001b[0;32mfor\u001b[0m \u001b[0mdetails\u001b[0m\u001b[0;34m.\u001b[0m\u001b[0;34m\u001b[0m\u001b[0;34m\u001b[0m\u001b[0m\n\u001b[1;32m    249\u001b[0m         \"\"\"\n\u001b[0;32m--> 250\u001b[0;31m         \u001b[0;32mreturn\u001b[0m \u001b[0mlsim\u001b[0m\u001b[0;34m(\u001b[0m\u001b[0mself\u001b[0m\u001b[0;34m,\u001b[0m \u001b[0mU\u001b[0m\u001b[0;34m,\u001b[0m \u001b[0mT\u001b[0m\u001b[0;34m,\u001b[0m \u001b[0mX0\u001b[0m\u001b[0;34m=\u001b[0m\u001b[0mX0\u001b[0m\u001b[0;34m)\u001b[0m\u001b[0;34m\u001b[0m\u001b[0;34m\u001b[0m\u001b[0m\n\u001b[0m\u001b[1;32m    251\u001b[0m \u001b[0;34m\u001b[0m\u001b[0m\n\u001b[1;32m    252\u001b[0m     \u001b[0;32mdef\u001b[0m \u001b[0mbode\u001b[0m\u001b[0;34m(\u001b[0m\u001b[0mself\u001b[0m\u001b[0;34m,\u001b[0m \u001b[0mw\u001b[0m\u001b[0;34m=\u001b[0m\u001b[0;32mNone\u001b[0m\u001b[0;34m,\u001b[0m \u001b[0mn\u001b[0m\u001b[0;34m=\u001b[0m\u001b[0;36m100\u001b[0m\u001b[0;34m)\u001b[0m\u001b[0;34m:\u001b[0m\u001b[0;34m\u001b[0m\u001b[0;34m\u001b[0m\u001b[0m\n",
            "\u001b[0;32m/usr/local/lib/python3.6/dist-packages/scipy/signal/ltisys.py\u001b[0m in \u001b[0;36mlsim\u001b[0;34m(system, U, T, X0, interp)\u001b[0m\n\u001b[1;32m   1966\u001b[0m         warnings.warn(\"Non-uniform timesteps are deprecated. Results may be \"\n\u001b[1;32m   1967\u001b[0m                       \"slow and/or inaccurate.\", DeprecationWarning)\n\u001b[0;32m-> 1968\u001b[0;31m         \u001b[0;32mreturn\u001b[0m \u001b[0mlsim2\u001b[0m\u001b[0;34m(\u001b[0m\u001b[0msystem\u001b[0m\u001b[0;34m,\u001b[0m \u001b[0mU\u001b[0m\u001b[0;34m,\u001b[0m \u001b[0mT\u001b[0m\u001b[0;34m,\u001b[0m \u001b[0mX0\u001b[0m\u001b[0;34m)\u001b[0m\u001b[0;34m\u001b[0m\u001b[0;34m\u001b[0m\u001b[0m\n\u001b[0m\u001b[1;32m   1969\u001b[0m \u001b[0;34m\u001b[0m\u001b[0m\n\u001b[1;32m   1970\u001b[0m     \u001b[0;32mif\u001b[0m \u001b[0mno_input\u001b[0m\u001b[0;34m:\u001b[0m\u001b[0;34m\u001b[0m\u001b[0;34m\u001b[0m\u001b[0m\n",
            "\u001b[0;32m/usr/local/lib/python3.6/dist-packages/scipy/signal/ltisys.py\u001b[0m in \u001b[0;36mlsim2\u001b[0;34m(system, U, T, X0, **kwargs)\u001b[0m\n\u001b[1;32m   1842\u001b[0m             \u001b[0;34m\"\"\"The vector field of the linear system.\"\"\"\u001b[0m\u001b[0;34m\u001b[0m\u001b[0;34m\u001b[0m\u001b[0m\n\u001b[1;32m   1843\u001b[0m             \u001b[0;32mreturn\u001b[0m \u001b[0mdot\u001b[0m\u001b[0;34m(\u001b[0m\u001b[0msys\u001b[0m\u001b[0;34m.\u001b[0m\u001b[0mA\u001b[0m\u001b[0;34m,\u001b[0m \u001b[0mx\u001b[0m\u001b[0;34m)\u001b[0m \u001b[0;34m+\u001b[0m \u001b[0msqueeze\u001b[0m\u001b[0;34m(\u001b[0m\u001b[0mdot\u001b[0m\u001b[0;34m(\u001b[0m\u001b[0msys\u001b[0m\u001b[0;34m.\u001b[0m\u001b[0mB\u001b[0m\u001b[0;34m,\u001b[0m \u001b[0mnan_to_num\u001b[0m\u001b[0;34m(\u001b[0m\u001b[0mufunc\u001b[0m\u001b[0;34m(\u001b[0m\u001b[0;34m[\u001b[0m\u001b[0mt\u001b[0m\u001b[0;34m]\u001b[0m\u001b[0;34m)\u001b[0m\u001b[0;34m)\u001b[0m\u001b[0;34m)\u001b[0m\u001b[0;34m)\u001b[0m\u001b[0;34m\u001b[0m\u001b[0;34m\u001b[0m\u001b[0m\n\u001b[0;32m-> 1844\u001b[0;31m         \u001b[0mxout\u001b[0m \u001b[0;34m=\u001b[0m \u001b[0mintegrate\u001b[0m\u001b[0;34m.\u001b[0m\u001b[0modeint\u001b[0m\u001b[0;34m(\u001b[0m\u001b[0mfprime\u001b[0m\u001b[0;34m,\u001b[0m \u001b[0mX0\u001b[0m\u001b[0;34m,\u001b[0m \u001b[0mT\u001b[0m\u001b[0;34m,\u001b[0m \u001b[0margs\u001b[0m\u001b[0;34m=\u001b[0m\u001b[0;34m(\u001b[0m\u001b[0msys\u001b[0m\u001b[0;34m,\u001b[0m \u001b[0mufunc\u001b[0m\u001b[0;34m)\u001b[0m\u001b[0;34m,\u001b[0m \u001b[0;34m**\u001b[0m\u001b[0mkwargs\u001b[0m\u001b[0;34m)\u001b[0m\u001b[0;34m\u001b[0m\u001b[0;34m\u001b[0m\u001b[0m\n\u001b[0m\u001b[1;32m   1845\u001b[0m         \u001b[0myout\u001b[0m \u001b[0;34m=\u001b[0m \u001b[0mdot\u001b[0m\u001b[0;34m(\u001b[0m\u001b[0msys\u001b[0m\u001b[0;34m.\u001b[0m\u001b[0mC\u001b[0m\u001b[0;34m,\u001b[0m \u001b[0mtranspose\u001b[0m\u001b[0;34m(\u001b[0m\u001b[0mxout\u001b[0m\u001b[0;34m)\u001b[0m\u001b[0;34m)\u001b[0m \u001b[0;34m+\u001b[0m \u001b[0mdot\u001b[0m\u001b[0;34m(\u001b[0m\u001b[0msys\u001b[0m\u001b[0;34m.\u001b[0m\u001b[0mD\u001b[0m\u001b[0;34m,\u001b[0m \u001b[0mtranspose\u001b[0m\u001b[0;34m(\u001b[0m\u001b[0mU\u001b[0m\u001b[0;34m)\u001b[0m\u001b[0;34m)\u001b[0m\u001b[0;34m\u001b[0m\u001b[0;34m\u001b[0m\u001b[0m\n\u001b[1;32m   1846\u001b[0m     \u001b[0;32melse\u001b[0m\u001b[0;34m:\u001b[0m\u001b[0;34m\u001b[0m\u001b[0;34m\u001b[0m\u001b[0m\n",
            "\u001b[0;32m/usr/local/lib/python3.6/dist-packages/scipy/integrate/odepack.py\u001b[0m in \u001b[0;36modeint\u001b[0;34m(func, y0, t, args, Dfun, col_deriv, full_output, ml, mu, rtol, atol, tcrit, h0, hmax, hmin, ixpr, mxstep, mxhnil, mxordn, mxords, printmessg, tfirst)\u001b[0m\n\u001b[1;32m    234\u001b[0m     \u001b[0mdt\u001b[0m \u001b[0;34m=\u001b[0m \u001b[0mnp\u001b[0m\u001b[0;34m.\u001b[0m\u001b[0mdiff\u001b[0m\u001b[0;34m(\u001b[0m\u001b[0mt\u001b[0m\u001b[0;34m)\u001b[0m\u001b[0;34m\u001b[0m\u001b[0;34m\u001b[0m\u001b[0m\n\u001b[1;32m    235\u001b[0m     \u001b[0;32mif\u001b[0m \u001b[0;32mnot\u001b[0m\u001b[0;34m(\u001b[0m\u001b[0;34m(\u001b[0m\u001b[0mdt\u001b[0m \u001b[0;34m>=\u001b[0m \u001b[0;36m0\u001b[0m\u001b[0;34m)\u001b[0m\u001b[0;34m.\u001b[0m\u001b[0mall\u001b[0m\u001b[0;34m(\u001b[0m\u001b[0;34m)\u001b[0m \u001b[0;32mor\u001b[0m \u001b[0;34m(\u001b[0m\u001b[0mdt\u001b[0m \u001b[0;34m<=\u001b[0m \u001b[0;36m0\u001b[0m\u001b[0;34m)\u001b[0m\u001b[0;34m.\u001b[0m\u001b[0mall\u001b[0m\u001b[0;34m(\u001b[0m\u001b[0;34m)\u001b[0m\u001b[0;34m)\u001b[0m\u001b[0;34m:\u001b[0m\u001b[0;34m\u001b[0m\u001b[0;34m\u001b[0m\u001b[0m\n\u001b[0;32m--> 236\u001b[0;31m         raise ValueError(\"The values in t must be monotonically increasing \"\n\u001b[0m\u001b[1;32m    237\u001b[0m                          \u001b[0;34m\"or monotonically decreasing; repeated values are \"\u001b[0m\u001b[0;34m\u001b[0m\u001b[0;34m\u001b[0m\u001b[0m\n\u001b[1;32m    238\u001b[0m                          \"allowed.\")\n",
            "\u001b[0;31mValueError\u001b[0m: The values in t must be monotonically increasing or monotonically decreasing; repeated values are allowed."
          ]
        },
        {
          "output_type": "display_data",
          "data": {
            "text/plain": [
              "<Figure size 900x450 with 0 Axes>"
            ]
          },
          "metadata": {
            "tags": []
          }
        }
      ]
    },
    {
      "cell_type": "markdown",
      "metadata": {
        "id": "jEXa6S7DP-AU"
      },
      "source": [
        "- Se determina $X(w)$ escribiendo la transformada de Lpalcade del pulso cuadrado con ancho 0.5 y graficandola"
      ]
    },
    {
      "cell_type": "code",
      "metadata": {
        "id": "ix58TV77NjUI",
        "outputId": "b012158f-9275-4869-c1bf-00aa77dac4a2",
        "colab": {
          "base_uri": "https://localhost:8080/",
          "height": 413
        }
      },
      "source": [
        "X_in = (A1/s)*(1-sym.exp(-A1*s))\n",
        "x_in = sym.inverse_laplace_transform(X_in, s, t)\n",
        "sym.plot(x_in, (t, -0.01, 1), xlabel='$t$', ylabel='$x_{in}(t)$')"
      ],
      "execution_count": 199,
      "outputs": [
        {
          "output_type": "stream",
          "text": [
            "/usr/local/lib/python3.6/dist-packages/sympy/plotting/plot.py:890: MatplotlibDeprecationWarning: \n",
            "The set_smart_bounds function was deprecated in Matplotlib 3.2 and will be removed two minor releases later.\n",
            "  self.ax.spines['left'].set_smart_bounds(True)\n",
            "/usr/local/lib/python3.6/dist-packages/sympy/plotting/plot.py:891: MatplotlibDeprecationWarning: \n",
            "The set_smart_bounds function was deprecated in Matplotlib 3.2 and will be removed two minor releases later.\n",
            "  self.ax.spines['bottom'].set_smart_bounds(False)\n"
          ],
          "name": "stderr"
        },
        {
          "output_type": "display_data",
          "data": {
            "image/png": "[encoded data removed]",
            "text/plain": [
              "<Figure size 432x288 with 1 Axes>"
            ]
          },
          "metadata": {
            "tags": [],
            "needs_background": "light"
          }
        },
        {
          "output_type": "execute_result",
          "data": {
            "text/plain": [
              "<sympy.plotting.plot.Plot at 0x7fbbc0ed3e80>"
            ]
          },
          "metadata": {
            "tags": []
          },
          "execution_count": 199
        }
      ]
    },
    {
      "cell_type": "code",
      "metadata": {
        "id": "UW5cssvgD2uf",
        "outputId": "8ad350ab-3b21-417d-c59f-016da9a9e749",
        "colab": {
          "base_uri": "https://localhost:8080/",
          "height": 414
        }
      },
      "source": [
        "import sympy as sym\n",
        "from sympy.abc import s,t,x,y,z\n",
        "import numpy as np \n",
        "from sympy.integrals import inverse_laplace_transform,laplace_transform\n",
        "import matplotlib.pyplot as plt\n",
        "from ipywidgets import interact, interactive, fixed, interact_manual\n",
        "\n",
        "U2 = 0.5/s*sym.exp(0.5*s*0)\n",
        "U3 = -0.5/s*sym.exp(-0.5*s)\n",
        "\n",
        "#X_in = (0.5/s)*(1-sym.exp(-0.5*s))\n",
        "#x_in = sym.inverse_laplace_transform(X_in, s, t)\n",
        "#sym.plot(x_in, (t, 0, 1), xlabel='$t$', ylabel='$x_{in}(t)$')\n",
        "\n",
        "R1 = 1\n",
        "R2 = 2\n",
        "C = 0.4\n",
        "A = 1/(R2*C)\n",
        "G = (1/(R2*C))/(s + ((R2+R1)/(R1*R2*C))) \n",
        "\n",
        "Y2 = G * U2\n",
        "Y3 = G * U3\n",
        "\n",
        "\n",
        "u2 = inverse_laplace_transform(U2,s,t)\n",
        "u3 = inverse_laplace_transform(U3,s,t)\n",
        "y2 = inverse_laplace_transform(Y2,s,t)\n",
        "y3 = inverse_laplace_transform(Y3,s,t)\n",
        "\n",
        "tm = np.linspace(-0.000000001,2.5,10000)\n",
        "us = np.zeros(len(tm))\n",
        "ys = np.zeros(len(tm))\n",
        "\n",
        "for u in [u2,u3]:\n",
        "  for i in range(len(tm)):\n",
        "      us[i] += u.subs(t,tm[i])\n",
        "      \n",
        "for y in [y2,y3]:\n",
        "  for i in range(len(tm)):\n",
        "      ys[i] += y.subs(t,tm[i])\n",
        "\n",
        "plt.figure(figsize=(10, 5), dpi=90)\n",
        "plt.plot(tm,us,label='u(t)')\n",
        "plt.plot(tm,ys,label='y(t)')\n",
        "plt.legend()\n",
        "plt.grid (True)\n",
        "plt.xlabel('time')\n",
        "plt.show()\n"
      ],
      "execution_count": 264,
      "outputs": [
        {
          "output_type": "display_data",
          "data": {
            "image/png": "[encoded data removed]",
            "text/plain": [
              "<Figure size 900x450 with 1 Axes>"
            ]
          },
          "metadata": {
            "tags": [],
            "needs_background": "light"
          }
        }
      ]
    },
    {
      "cell_type": "code",
      "metadata": {
        "id": "oy2qXYwlJYA8"
      },
      "source": [
        ""
      ],
      "execution_count": 200,
      "outputs": []
    }
  ]
}